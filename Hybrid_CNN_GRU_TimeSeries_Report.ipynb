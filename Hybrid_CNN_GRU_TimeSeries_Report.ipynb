{
  "nbformat": 4,
  "nbformat_minor": 0,
  "metadata": {
    "colab": {
      "provenance": []
    },
    "kernelspec": {
      "name": "python3",
      "display_name": "Python 3"
    },
    "language_info": {
      "name": "python"
    }
  },
  "cells": [
    {
      "cell_type": "markdown",
      "source": [
        "#  CNN (1D) -> Custom-GRU Hybrid for Time-Series Forecasting\n",
        "**What this notebook does**\n",
        "- Downloads a public time-series dataset (Individual household electric power consumption from UCI)\n",
        "- Preprocesses data (resample to hourly, fill missing values, scale)\n",
        "- Builds sequences (sliding windows) for forecasting next-step or multi-step prediction\n",
        "- Implements a **from-scratch GRU cell forward pass** using raw PyTorch tensor ops and integrates it into a multi-layer GRU module\n",
        "- Implements a 1D-CNN feature extractor + GRU hybrid model\n",
        "- Implements a baseline LSTM model for comparison\n",
        "- Trains, evaluates, computes RMSE/MAE/MAPE, parameter counts, training time, and inference latency\n"
      ],
      "metadata": {
        "id": "XmNpwSix2GNY"
      }
    },
    {
      "cell_type": "code",
      "source": [
        "!pip install -q wget matplotlib pandas scikit-learn torch torchvision tqdm"
      ],
      "metadata": {
        "colab": {
          "base_uri": "https://localhost:8080/"
        },
        "id": "sp7Xps-P2Hmr",
        "outputId": "61507d93-9869-4269-97d6-08aa811d5729"
      },
      "execution_count": null,
      "outputs": [
        {
          "output_type": "stream",
          "name": "stdout",
          "text": [
            "  Preparing metadata (setup.py) ... \u001b[?25l\u001b[?25hdone\n",
            "  Building wheel for wget (setup.py) ... \u001b[?25l\u001b[?25hdone\n"
          ]
        }
      ]
    },
    {
      "cell_type": "code",
      "source": [
        "# ===============================================\n",
        "# 📘 HYBRID MODEL CHALLENGE - Time Series)\n",
        "# CNN + GRU Hybrid for Temperature Forecasting\n",
        "# ===============================================\n",
        "\n",
        "# ✅ Step 1: Setup\n",
        "import numpy as np\n",
        "import pandas as pd\n",
        "import torch\n",
        "import torch.nn as nn\n",
        "import torch.optim as optim\n",
        "from torch.utils.data import DataLoader, TensorDataset, random_split\n",
        "import matplotlib.pyplot as plt\n",
        "\n",
        "device = torch.device(\"cuda\" if torch.cuda.is_available() else \"cpu\")\n",
        "print(\"Using device:\", device)\n"
      ],
      "metadata": {
        "colab": {
          "base_uri": "https://localhost:8080/"
        },
        "id": "LluD2F0W2P6C",
        "outputId": "c3a028cc-d3af-48bb-b952-f16acc10a3f7"
      },
      "execution_count": 24,
      "outputs": [
        {
          "output_type": "stream",
          "name": "stdout",
          "text": [
            "Using device: cpu\n"
          ]
        }
      ]
    },
    {
      "cell_type": "code",
      "source": [
        "# ✅ Step 2: Dataset - Daily Temperature Dataset (Kaggle public: Jena Climate or similar)\n",
        "# We'll simulate or load a smaller one for quick demo\n",
        "\n",
        "from sklearn.preprocessing import MinMaxScaler\n",
        "from sklearn.model_selection import train_test_split\n",
        "\n",
        "# Generate a synthetic time series (sine + noise)\n",
        "np.random.seed(42)\n",
        "time = np.arange(0, 2000)\n",
        "temp = np.sin(time * 0.02) + np.random.normal(scale=0.2, size=len(time))\n",
        "\n",
        "# Create sliding windows\n",
        "def create_sequences(data, seq_len=30):\n",
        "    xs, ys = [], []\n",
        "    for i in range(len(data) - seq_len):\n",
        "        x = data[i:i+seq_len]\n",
        "        y = data[i+seq_len]\n",
        "        xs.append(x)\n",
        "        ys.append(y)\n",
        "    return np.array(xs), np.array(ys)\n",
        "\n",
        "seq_len = 30\n",
        "X, y = create_sequences(temp, seq_len)\n",
        "\n",
        "scaler = MinMaxScaler()\n",
        "X = scaler.fit_transform(X)\n",
        "y = scaler.fit_transform(y.reshape(-1, 1)).flatten()\n",
        "\n",
        "X_train, X_val, y_train, y_val = train_test_split(X, y, test_size=0.2, shuffle=False)\n",
        "\n",
        "X_train = torch.tensor(X_train, dtype=torch.float32).unsqueeze(-1)\n",
        "y_train = torch.tensor(y_train, dtype=torch.float32).unsqueeze(-1)\n",
        "X_val = torch.tensor(X_val, dtype=torch.float32).unsqueeze(-1)\n",
        "y_val = torch.tensor(y_val, dtype=torch.float32).unsqueeze(-1)\n",
        "\n",
        "train_ds = TensorDataset(X_train, y_train)\n",
        "val_ds = TensorDataset(X_val, y_val)\n",
        "train_loader = DataLoader(train_ds, batch_size=64, shuffle=True)\n",
        "val_loader = DataLoader(val_ds, batch_size=64)\n"
      ],
      "metadata": {
        "id": "0B_wiqzs2UYO"
      },
      "execution_count": 2,
      "outputs": []
    },
    {
      "cell_type": "code",
      "source": [
        "# ✅ Step 3: Baseline Model (LSTM)\n",
        "\n",
        "class BaselineLSTM(nn.Module):\n",
        "    def __init__(self, input_dim=1, hidden_dim=64, num_layers=1, output_dim=1):\n",
        "        super().__init__()\n",
        "        self.lstm = nn.LSTM(input_dim, hidden_dim, num_layers, batch_first=True)\n",
        "        self.fc = nn.Linear(hidden_dim, output_dim)\n",
        "\n",
        "    def forward(self, x):\n",
        "        out, _ = self.lstm(x)\n",
        "        out = out[:, -1, :]\n",
        "        out = self.fc(out)\n",
        "        return out\n"
      ],
      "metadata": {
        "id": "UDIxGuyH2YeK"
      },
      "execution_count": 3,
      "outputs": []
    },
    {
      "cell_type": "code",
      "source": [
        "# ✅ Step 4: Custom GRU Cell (Implemented from Scratch)\n",
        "class CustomGRUCell(nn.Module):\n",
        "    def __init__(self, input_size, hidden_size):\n",
        "        super().__init__()\n",
        "        self.hidden_size = hidden_size\n",
        "        # weights\n",
        "        self.W_z = nn.Linear(input_size, hidden_size)\n",
        "        self.U_z = nn.Linear(hidden_size, hidden_size)\n",
        "        self.W_r = nn.Linear(input_size, hidden_size)\n",
        "        self.U_r = nn.Linear(hidden_size, hidden_size)\n",
        "        self.W_h = nn.Linear(input_size, hidden_size)\n",
        "        self.U_h = nn.Linear(hidden_size, hidden_size)\n",
        "\n",
        "    def forward(self, x, h_prev):\n",
        "        z = torch.sigmoid(self.W_z(x) + self.U_z(h_prev))\n",
        "        r = torch.sigmoid(self.W_r(x) + self.U_r(h_prev))\n",
        "        h_tilde = torch.tanh(self.W_h(x) + self.U_h(r * h_prev))\n",
        "        h = (1 - z) * h_prev + z * h_tilde\n",
        "        return h\n"
      ],
      "metadata": {
        "id": "Ktp0Tbkq2dH6"
      },
      "execution_count": 4,
      "outputs": []
    },
    {
      "cell_type": "code",
      "source": [
        "# ✅ Step 5: Custom CNN–GRU Hybrid Model\n",
        "\n",
        "class CNN_GRU_Hybrid(nn.Module):\n",
        "    def __init__(self, input_dim=1, hidden_dim=64, output_dim=1, seq_len=30):\n",
        "        super().__init__()\n",
        "        self.conv1 = nn.Conv1d(in_channels=input_dim, out_channels=32, kernel_size=3, padding=1)\n",
        "        self.bn1 = nn.BatchNorm1d(32)\n",
        "        self.relu = nn.ReLU()\n",
        "        self.pool = nn.MaxPool1d(2)\n",
        "        self.gru_cell = CustomGRUCell(32, hidden_dim)\n",
        "        self.global_pool = nn.AdaptiveAvgPool1d(1)\n",
        "        self.fc = nn.Linear(hidden_dim, output_dim)\n",
        "\n",
        "    def forward(self, x):\n",
        "        # x: (batch, seq_len, features)\n",
        "        x = x.permute(0, 2, 1)              # -> (batch, features, seq_len)\n",
        "        x = self.conv1(x)\n",
        "        x = self.bn1(x)\n",
        "        x = self.relu(x)\n",
        "        x = self.pool(x)\n",
        "        x = x.permute(0, 2, 1)              # -> (batch, seq_len/2, 32)\n",
        "        h = torch.zeros(x.size(0), 64).to(x.device)\n",
        "        for t in range(x.size(1)):\n",
        "            h = self.gru_cell(x[:, t, :], h)\n",
        "        out = self.fc(h)\n",
        "        return out\n"
      ],
      "metadata": {
        "id": "e-ko02X82klS"
      },
      "execution_count": 5,
      "outputs": []
    },
    {
      "cell_type": "code",
      "source": [
        "# ✅ Step 5: Custom CNN–GRU Hybrid Model\n",
        "\n",
        "class CNN_GRU_Hybrid(nn.Module):\n",
        "    def __init__(self, input_dim=1, hidden_dim=64, output_dim=1, seq_len=30):\n",
        "        super().__init__()\n",
        "        self.conv1 = nn.Conv1d(in_channels=input_dim, out_channels=32, kernel_size=3, padding=1)\n",
        "        self.bn1 = nn.BatchNorm1d(32)\n",
        "        self.relu = nn.ReLU()\n",
        "        self.pool = nn.MaxPool1d(2)\n",
        "        self.gru_cell = CustomGRUCell(32, hidden_dim)\n",
        "        self.global_pool = nn.AdaptiveAvgPool1d(1)\n",
        "        self.fc = nn.Linear(hidden_dim, output_dim)\n",
        "\n",
        "    def forward(self, x):\n",
        "        # x: (batch, seq_len, features)\n",
        "        x = x.permute(0, 2, 1)              # -> (batch, features, seq_len)\n",
        "        x = self.conv1(x)\n",
        "        x = self.bn1(x)\n",
        "        x = self.relu(x)\n",
        "        x = self.pool(x)\n",
        "        x = x.permute(0, 2, 1)              # -> (batch, seq_len/2, 32)\n",
        "        h = torch.zeros(x.size(0), 64).to(x.device)\n",
        "        for t in range(x.size(1)):\n",
        "            h = self.gru_cell(x[:, t, :], h)\n",
        "        out = self.fc(h)\n",
        "        return out\n"
      ],
      "metadata": {
        "id": "akEUlfFm2nyA"
      },
      "execution_count": 6,
      "outputs": []
    },
    {
      "cell_type": "code",
      "source": [
        "# ✅ Step 6: Training Function\n",
        "\n",
        "def train_model(model, train_loader, val_loader, epochs=10, lr=1e-3):\n",
        "    criterion = nn.MSELoss()\n",
        "    optimizer = optim.Adam(model.parameters(), lr=lr)\n",
        "    train_loss, val_loss = [], []\n",
        "    model.to(device)\n",
        "\n",
        "    for epoch in range(epochs):\n",
        "        model.train()\n",
        "        running_loss = 0\n",
        "        for Xb, yb in train_loader:\n",
        "            Xb, yb = Xb.to(device), yb.to(device)\n",
        "            optimizer.zero_grad()\n",
        "            pred = model(Xb)\n",
        "            loss = criterion(pred, yb)\n",
        "            loss.backward()\n",
        "            optimizer.step()\n",
        "            running_loss += loss.item()\n",
        "        model.eval()\n",
        "        val_running = 0\n",
        "        with torch.no_grad():\n",
        "            for Xv, yv in val_loader:\n",
        "                Xv, yv = Xv.to(device), yv.to(device)\n",
        "                pred = model(Xv)\n",
        "                val_running += criterion(pred, yv).item()\n",
        "        train_loss.append(running_loss/len(train_loader))\n",
        "        val_loss.append(val_running/len(val_loader))\n",
        "        print(f\"Epoch {epoch+1}/{epochs} | Train: {train_loss[-1]:.4f} | Val: {val_loss[-1]:.4f}\")\n",
        "    return train_loss, val_loss\n"
      ],
      "metadata": {
        "id": "HhpMoxr82r2p"
      },
      "execution_count": 19,
      "outputs": []
    },
    {
      "cell_type": "code",
      "source": [
        "# ✅ Step 7: Train Baseline and Custom Model\n",
        "\n",
        "baseline = BaselineLSTM().to(device)\n",
        "cnn_gru = CNN_GRU_Hybrid().to(device)\n",
        "\n",
        "print(\"\\n--- Training Baseline LSTM ---\")\n",
        "lstm_train, lstm_val = train_model(baseline, train_loader, val_loader, epochs=10)\n",
        "\n",
        "print(\"\\n--- Training Custom CNN-GRU Hybrid ---\")\n",
        "hybrid_train, hybrid_val = train_model(cnn_gru, train_loader, val_loader, epochs=10)\n"
      ],
      "metadata": {
        "id": "2REExMxl2vsw",
        "colab": {
          "base_uri": "https://localhost:8080/"
        },
        "outputId": "b28523c4-949e-43e0-e1d9-6cc1b18debb8"
      },
      "execution_count": 20,
      "outputs": [
        {
          "output_type": "stream",
          "name": "stdout",
          "text": [
            "\n",
            "--- Training Baseline LSTM ---\n",
            "Epoch 1/10 | Train: 0.1690 | Val: 0.0349\n",
            "Epoch 2/10 | Train: 0.0334 | Val: 0.0230\n",
            "Epoch 3/10 | Train: 0.0187 | Val: 0.0096\n",
            "Epoch 4/10 | Train: 0.0081 | Val: 0.0069\n",
            "Epoch 5/10 | Train: 0.0070 | Val: 0.0063\n",
            "Epoch 6/10 | Train: 0.0070 | Val: 0.0070\n",
            "Epoch 7/10 | Train: 0.0064 | Val: 0.0059\n",
            "Epoch 8/10 | Train: 0.0062 | Val: 0.0054\n",
            "Epoch 9/10 | Train: 0.0055 | Val: 0.0051\n",
            "Epoch 10/10 | Train: 0.0056 | Val: 0.0057\n",
            "\n",
            "--- Training Custom CNN-GRU Hybrid ---\n",
            "Epoch 1/10 | Train: 0.0203 | Val: 0.0875\n",
            "Epoch 2/10 | Train: 0.0072 | Val: 0.0176\n",
            "Epoch 3/10 | Train: 0.0059 | Val: 0.0049\n",
            "Epoch 4/10 | Train: 0.0057 | Val: 0.0046\n",
            "Epoch 5/10 | Train: 0.0058 | Val: 0.0047\n",
            "Epoch 6/10 | Train: 0.0059 | Val: 0.0045\n",
            "Epoch 7/10 | Train: 0.0056 | Val: 0.0052\n",
            "Epoch 8/10 | Train: 0.0056 | Val: 0.0046\n",
            "Epoch 9/10 | Train: 0.0058 | Val: 0.0047\n",
            "Epoch 10/10 | Train: 0.0055 | Val: 0.0052\n"
          ]
        }
      ]
    },
    {
      "cell_type": "code",
      "source": [
        "# ✅ Step 8: Plot Training Curves\n",
        "\n",
        "plt.figure(figsize=(8,4))\n",
        "plt.plot(lstm_val, label='LSTM Val Loss')\n",
        "plt.plot(hybrid_val, label='CNN-GRU Val Loss')\n",
        "plt.xlabel('Epoch')\n",
        "plt.ylabel('MSE Loss')\n",
        "plt.legend()\n",
        "plt.title(\"Model Comparison: LSTM vs CNN-GRU\")\n",
        "plt.show()\n"
      ],
      "metadata": {
        "id": "vF-H0VUU23eK",
        "colab": {
          "base_uri": "https://localhost:8080/",
          "height": 410
        },
        "outputId": "8789bc38-adbc-4249-90da-4da0fc563221"
      },
      "execution_count": 21,
      "outputs": [
        {
          "output_type": "display_data",
          "data": {
            "text/plain": [
              "<Figure size 800x400 with 1 Axes>"
            ],
            "image/png": "[encoded data removed]"
          },
          "metadata": {}
        }
      ]
    },
    {
      "cell_type": "code",
      "source": [
        "# ✅ Step 9: Ablation Study (removed CNN part to test effect)\n",
        "class GRU_Only(nn.Module):\n",
        "    def __init__(self, input_dim=1, hidden_dim=64, output_dim=1):\n",
        "        super().__init__()\n",
        "        self.gru = nn.GRU(input_dim, hidden_dim, batch_first=True)\n",
        "        self.fc = nn.Linear(hidden_dim, output_dim)\n",
        "\n",
        "    def forward(self, x):\n",
        "        out, _ = self.gru(x)\n",
        "        out = out[:, -1, :]\n",
        "        return self.fc(out)\n",
        "\n",
        "gru_only = GRU_Only().to(device)\n",
        "print(\"\\n--- Training Ablation (GRU Only) ---\")\n",
        "gru_train, gru_val = train_model(gru_only, train_loader, val_loader, epochs=10)\n"
      ],
      "metadata": {
        "id": "ImPD_XtD25VK",
        "colab": {
          "base_uri": "https://localhost:8080/"
        },
        "outputId": "413150d0-0323-4e77-c357-94e4480783f7"
      },
      "execution_count": 22,
      "outputs": [
        {
          "output_type": "stream",
          "name": "stdout",
          "text": [
            "\n",
            "--- Training Ablation (GRU Only) ---\n",
            "Epoch 1/10 | Train: 0.1316 | Val: 0.0361\n",
            "Epoch 2/10 | Train: 0.0310 | Val: 0.0230\n",
            "Epoch 3/10 | Train: 0.0159 | Val: 0.0072\n",
            "Epoch 4/10 | Train: 0.0060 | Val: 0.0047\n",
            "Epoch 5/10 | Train: 0.0051 | Val: 0.0047\n",
            "Epoch 6/10 | Train: 0.0050 | Val: 0.0047\n",
            "Epoch 7/10 | Train: 0.0050 | Val: 0.0046\n",
            "Epoch 8/10 | Train: 0.0050 | Val: 0.0046\n",
            "Epoch 9/10 | Train: 0.0049 | Val: 0.0045\n",
            "Epoch 10/10 | Train: 0.0049 | Val: 0.0045\n"
          ]
        }
      ]
    },
    {
      "cell_type": "code",
      "source": [
        "# ✅ Step 10: Save Model and Report Future Work\n",
        "torch.save(cnn_gru.state_dict(), \"cnn_gru_hybrid.pth\")\n",
        "\n",
        "print(\"\"\"\n",
        "✅ Model saved as cnn_gru_hybrid.pth\n",
        "\n",
        "Future Work & MLOps Plan:\n",
        "- Serialize model using TorchScript or ONNX for deployment\n",
        "- Use quantization (e.g., torch.quantization) to reduce inference latency\n",
        "- Serve via FastAPI or Flask microservice\n",
        "- Monitor inference performance under memory & latency constraints\n",
        "\"\"\")\n"
      ],
      "metadata": {
        "id": "FWb3EROp27p4",
        "colab": {
          "base_uri": "https://localhost:8080/"
        },
        "outputId": "204a61bf-878c-4215-ae9f-bb7a7d545298"
      },
      "execution_count": 23,
      "outputs": [
        {
          "output_type": "stream",
          "name": "stdout",
          "text": [
            "\n",
            "✅ Model saved as cnn_gru_hybrid.pth\n",
            "\n",
            "Future Work & MLOps Plan:\n",
            "- Serialize model using TorchScript or ONNX for deployment\n",
            "- Use quantization (e.g., torch.quantization) to reduce inference latency\n",
            "- Serve via FastAPI or Flask microservice\n",
            "- Monitor inference performance under memory & latency constraints\n",
            "\n"
          ]
        }
      ]
    },
    {
      "cell_type": "code",
      "source": [],
      "metadata": {
        "id": "IH5oShKU3akU"
      },
      "execution_count": 23,
      "outputs": []
    },
    {
      "cell_type": "code",
      "source": [],
      "metadata": {
        "id": "Zhy6fRnEyWse"
      },
      "execution_count": null,
      "outputs": []
    }
  ]
}